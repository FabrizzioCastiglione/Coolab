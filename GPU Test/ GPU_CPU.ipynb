{
  "nbformat": 4,
  "nbformat_minor": 0,
  "metadata": {
    "colab": {
      "provenance": [],
      "gpuType": "T4",
      "authorship_tag": "ABX9TyMeqC0QabWZ6ZGJsbFe7SfE",
      "include_colab_link": true
    },
    "kernelspec": {
      "name": "python3",
      "display_name": "Python 3"
    },
    "language_info": {
      "name": "python"
    },
    "accelerator": "GPU"
  },
  "cells": [
    {
      "cell_type": "markdown",
      "metadata": {
        "id": "view-in-github",
        "colab_type": "text"
      },
      "source": [
        "<a href=\"https://colab.research.google.com/github/FabrizzioCastiglione/Coolab/blob/main/GPU_CPU.ipynb\" target=\"_parent\"><img src=\"https://colab.research.google.com/assets/colab-badge.svg\" alt=\"Open In Colab\"/></a>"
      ]
    },
    {
      "cell_type": "markdown",
      "source": [
        "# Active or desactive GPU in Coolab\n",
        "EDIT -> Notebook Settings -> Active T4 GPU"
      ],
      "metadata": {
        "id": "XDOSj0Nff7bd"
      }
    },
    {
      "cell_type": "markdown",
      "source": [
        "# Watch if GPU or CPU is activated"
      ],
      "metadata": {
        "id": "pgLquywReaZQ"
      }
    },
    {
      "cell_type": "code",
      "source": [
        "import torch\n",
        "\n",
        "if torch.cuda.is_available():\n",
        "    print(\"GPU is active\")\n",
        "else:\n",
        "    print(\"CPU is active\")"
      ],
      "metadata": {
        "colab": {
          "base_uri": "https://localhost:8080/"
        },
        "id": "mxoRnV87bamI",
        "outputId": "2479d15d-0d1c-4755-844b-c4ee3516c696"
      },
      "execution_count": 3,
      "outputs": [
        {
          "output_type": "stream",
          "name": "stdout",
          "text": [
            "GPU is available\n"
          ]
        }
      ]
    },
    {
      "cell_type": "markdown",
      "source": [
        "# Lapse time for run code with GPU and CPU"
      ],
      "metadata": {
        "id": "m2HTr8PRerii"
      }
    },
    {
      "cell_type": "code",
      "execution_count": 1,
      "metadata": {
        "colab": {
          "base_uri": "https://localhost:8080/"
        },
        "id": "KQ2BvvGdbF8I",
        "outputId": "72851825-4e2c-477d-964f-8a4f44d373ef"
      },
      "outputs": [
        {
          "output_type": "stream",
          "name": "stdout",
          "text": [
            "without GPU: 3.4326105099999893\n",
            "with GPU: 1.0037146989999997\n"
          ]
        }
      ],
      "source": [
        "from numba import jit, cuda\n",
        "import numpy as np\n",
        "# to measure exec time\n",
        "from timeit import default_timer as timer\n",
        "\n",
        "# normal function to run on cpu\n",
        "def func(a):\n",
        "    for i in range(10000000):\n",
        "        a[i]+= 1\n",
        "\n",
        "# function optimized to run on gpu\n",
        "@jit(target_backend='cuda')\n",
        "def func2(a):\n",
        "    for i in range(10000000):\n",
        "        a[i]+= 1\n",
        "if __name__==\"__main__\":\n",
        "    n = 10000000\n",
        "    a = np.ones(n, dtype = np.float64)\n",
        "\n",
        "    start = timer()\n",
        "    func(a)\n",
        "    print(\"CPU:\", timer()-start)\n",
        "\n",
        "    start = timer()\n",
        "    func2(a)\n",
        "    print(\"GPU:\", timer()-start)"
      ]
    },
    {
      "cell_type": "markdown",
      "source": [
        "# Run time of math librarys"
      ],
      "metadata": {
        "id": "TPqs84qVe59D"
      }
    },
    {
      "cell_type": "code",
      "source": [
        "import cupy as cp\n",
        "from timeit import default_timer as timer\n",
        "x = cp.arange(6).reshape(2, 3).astype('f')\n",
        "start = timer()\n",
        "print(\"without GPU:\", timer()-start)\n",
        "print(x.sum())"
      ],
      "metadata": {
        "colab": {
          "base_uri": "https://localhost:8080/"
        },
        "id": "gbR13wcGdxH8",
        "outputId": "46fa18ab-97b2-473e-83f6-65abc971dedf"
      },
      "execution_count": 14,
      "outputs": [
        {
          "output_type": "stream",
          "name": "stdout",
          "text": [
            "without GPU: 4.66630000346413e-05\n",
            "15.0\n"
          ]
        }
      ]
    },
    {
      "cell_type": "code",
      "source": [
        "import numpy as np\n",
        "from timeit import default_timer as timer\n",
        "x = np.arange(6).reshape(2, 3).astype('f')\n",
        "start1 = timer()\n",
        "print(\"without CPU:\", timer()-start1)\n",
        "print(x.sum())"
      ],
      "metadata": {
        "colab": {
          "base_uri": "https://localhost:8080/"
        },
        "id": "hM8n2NIJeHW2",
        "outputId": "e6442c61-5082-4c7c-de01-8bd1a1b7eb3e"
      },
      "execution_count": 13,
      "outputs": [
        {
          "output_type": "stream",
          "name": "stdout",
          "text": [
            "without CPU: 5.491699999993216e-05\n",
            "15.0\n"
          ]
        }
      ]
    }
  ]
}
