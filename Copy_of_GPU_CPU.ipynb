{
  "nbformat": 4,
  "nbformat_minor": 0,
  "metadata": {
    "colab": {
      "provenance": [],
      "gpuType": "T4",
      "include_colab_link": true
    },
    "kernelspec": {
      "name": "python3",
      "display_name": "Python 3"
    },
    "language_info": {
      "name": "python"
    },
    "accelerator": "GPU"
  },
  "cells": [
    {
      "cell_type": "markdown",
      "metadata": {
        "id": "view-in-github",
        "colab_type": "text"
      },
      "source": [
        "<a href=\"https://colab.research.google.com/github/FabrizzioCastiglione/Coolab/blob/main/Copy_of_GPU_CPU.ipynb\" target=\"_parent\"><img src=\"https://colab.research.google.com/assets/colab-badge.svg\" alt=\"Open In Colab\"/></a>"
      ]
    },
    {
      "cell_type": "markdown",
      "source": [
        "# Active or desactive GPU in Coolab\n",
        "EDIT -> Notebook Settings -> Active T4 GPU"
      ],
      "metadata": {
        "id": "XDOSj0Nff7bd"
      }
    },
    {
      "cell_type": "markdown",
      "source": [
        "# Watch if GPU or CPU is activated"
      ],
      "metadata": {
        "id": "pgLquywReaZQ"
      }
    },
    {
      "cell_type": "code",
      "source": [
        "import torch\n",
        "from torch import cuda\n",
        "\n",
        "if torch.cuda.is_available():\n",
        "    gpu_available = cuda.is_available()\n",
        "    print(f\"\\nPyTorch has active GPU: {gpu_available}\")\n",
        "    if gpu_available:\n",
        "        print(f\"\\nGPU: {cuda.current_device()}\")\n",
        "        print(f\"GPU name: {cuda.get_device_name(cuda.current_device())}\")\n",
        "        print(f\"\\nCUDA version: {torch.version.cuda}\")\n",
        "        print(f\"cuDNN version: {torch.backends.cudnn.version()}\")\n",
        "else:\n",
        "    print(\"PyTorch has active CPU\")"
      ],
      "metadata": {
        "colab": {
          "base_uri": "https://localhost:8080/"
        },
        "id": "yUGWN58VE1xc",
        "outputId": "28de0733-66e4-4429-943a-2baff01cf1c8"
      },
      "execution_count": null,
      "outputs": [
        {
          "output_type": "stream",
          "name": "stdout",
          "text": [
            "\n",
            "PyTorch has active GPU: True\n",
            "\n",
            "GPU: 0\n",
            "GPU name: Tesla T4\n",
            "\n",
            "CUDA version: 11.8\n",
            "cuDNN version: 8700\n"
          ]
        }
      ]
    },
    {
      "cell_type": "code",
      "source": [
        "import tensorflow as tf\n",
        "from tensorflow.config.experimental import get_device_details\n",
        "\n",
        "\n",
        "devices = tf.config.list_physical_devices(\"GPU\")\n",
        "details = [get_device_details(GPU) for GPU in devices]\n",
        "\n",
        "if tf.test.is_gpu_available('GPU'):\n",
        "  print(f\"\\nTensorFlow has active GPU: {tf.test.is_built_with_gpu_support()}\")\n",
        "  is_built_with_cuda = tf.test.is_built_with_cuda()\n",
        "\n",
        "  for device, detail in zip(devices, details):\n",
        "      print(f\"\\nGPU: {device.name}\")\n",
        "      print(f\"GPU name: {detail['device_name']}\")\n",
        "\n",
        "  if is_built_with_cuda:\n",
        "      build_info = tf.sysconfig.get_build_info()\n",
        "      print(f\"\\nCUDA version: {build_info['cuda_version']}\")\n",
        "      print(f\"cuDNN version: {build_info['cudnn_version']}\")\n",
        "\n",
        "else:\n",
        "    print(\"TensorFlow has active CPU\")"
      ],
      "metadata": {
        "colab": {
          "base_uri": "https://localhost:8080/"
        },
        "id": "_OQLndLTD03b",
        "outputId": "8d822152-c00c-4d41-aa06-772d32ec83c9"
      },
      "execution_count": null,
      "outputs": [
        {
          "output_type": "stream",
          "name": "stdout",
          "text": [
            "\n",
            "TensorFlow has active GPU: True\n",
            "\n",
            "GPU: /physical_device:GPU:0\n",
            "GPU name: Tesla T4\n",
            "\n",
            "CUDA version: 11.8\n",
            "cuDNN version: 8\n"
          ]
        }
      ]
    },
    {
      "cell_type": "markdown",
      "source": [
        "# Lapse time for run code with GPU and CPU"
      ],
      "metadata": {
        "id": "m2HTr8PRerii"
      }
    },
    {
      "cell_type": "code",
      "execution_count": null,
      "metadata": {
        "colab": {
          "base_uri": "https://localhost:8080/"
        },
        "id": "KQ2BvvGdbF8I",
        "outputId": "72851825-4e2c-477d-964f-8a4f44d373ef"
      },
      "outputs": [
        {
          "output_type": "stream",
          "name": "stdout",
          "text": [
            "without GPU: 3.4326105099999893\n",
            "with GPU: 1.0037146989999997\n"
          ]
        }
      ],
      "source": [
        "from numba import jit, cuda\n",
        "import numpy as np\n",
        "# to measure exec time\n",
        "from timeit import default_timer as timer\n",
        "\n",
        "# normal function to run on cpu\n",
        "def func(a):\n",
        "    for i in range(10000000):\n",
        "        a[i]+= 1\n",
        "\n",
        "# function optimized to run on gpu\n",
        "@jit(target_backend='cuda')\n",
        "def func2(a):\n",
        "    for i in range(10000000):\n",
        "        a[i]+= 1\n",
        "if __name__==\"__main__\":\n",
        "    n = 10000000\n",
        "    a = np.ones(n, dtype = np.float64)\n",
        "\n",
        "    start = timer()\n",
        "    func(a)\n",
        "    print(\"CPU:\", timer()-start)\n",
        "\n",
        "    start = timer()\n",
        "    func2(a)\n",
        "    print(\"GPU:\", timer()-start)"
      ]
    },
    {
      "cell_type": "markdown",
      "source": [
        "# Run time of math librarys"
      ],
      "metadata": {
        "id": "TPqs84qVe59D"
      }
    },
    {
      "cell_type": "code",
      "source": [
        "import cupy as cp\n",
        "from timeit import default_timer as timer\n",
        "x = cp.arange(6).reshape(2, 3).astype('f')\n",
        "start = timer()\n",
        "print(\"without GPU:\", timer()-start)\n",
        "print(x.sum())"
      ],
      "metadata": {
        "colab": {
          "base_uri": "https://localhost:8080/"
        },
        "id": "gbR13wcGdxH8",
        "outputId": "46fa18ab-97b2-473e-83f6-65abc971dedf"
      },
      "execution_count": null,
      "outputs": [
        {
          "output_type": "stream",
          "name": "stdout",
          "text": [
            "without GPU: 4.66630000346413e-05\n",
            "15.0\n"
          ]
        }
      ]
    },
    {
      "cell_type": "code",
      "source": [
        "import numpy as np\n",
        "from timeit import default_timer as timer\n",
        "x = np.arange(6).reshape(2, 3).astype('f')\n",
        "start1 = timer()\n",
        "print(\"without CPU:\", timer()-start1)\n",
        "print(x.sum())"
      ],
      "metadata": {
        "colab": {
          "base_uri": "https://localhost:8080/"
        },
        "id": "hM8n2NIJeHW2",
        "outputId": "e6442c61-5082-4c7c-de01-8bd1a1b7eb3e"
      },
      "execution_count": null,
      "outputs": [
        {
          "output_type": "stream",
          "name": "stdout",
          "text": [
            "without CPU: 5.491699999993216e-05\n",
            "15.0\n"
          ]
        }
      ]
    }
  ]
}